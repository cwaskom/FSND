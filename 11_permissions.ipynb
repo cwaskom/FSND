{
  "nbformat": 4,
  "nbformat_minor": 0,
  "metadata": {
    "kernelspec": {
      "display_name": "Python 3",
      "language": "python",
      "name": "python3"
    },
    "language_info": {
      "codemirror_mode": {
        "name": "ipython",
        "version": 3
      },
      "file_extension": ".py",
      "mimetype": "text/x-python",
      "name": "python",
      "nbconvert_exporter": "python",
      "pygments_lexer": "ipython3",
      "version": "3.9.1"
    },
    "colab": {
      "name": "Copy of 6-permissions.ipynb",
      "provenance": [],
      "include_colab_link": true
    }
  },
  "cells": [
    {
      "cell_type": "markdown",
      "metadata": {
        "id": "view-in-github",
        "colab_type": "text"
      },
      "source": [
        "<a href=\"https://colab.research.google.com/github/cwaskom/FSND/blob/master/11_permissions.ipynb\" target=\"_parent\"><img src=\"https://colab.research.google.com/assets/colab-badge.svg\" alt=\"Open In Colab\"/></a>"
      ]
    },
    {
      "cell_type": "markdown",
      "metadata": {
        "id": "UEOayOcZMxSR"
      },
      "source": [
        "# File Permissions"
      ]
    },
    {
      "cell_type": "markdown",
      "metadata": {
        "id": "9gub5AK1MxSb"
      },
      "source": [
        "### Introduction"
      ]
    },
    {
      "cell_type": "markdown",
      "metadata": {
        "id": "AzG1_o9iMxSc"
      },
      "source": [
        "In linux, operating systems can not only perform multiple tasks but also multiple users.  In other words, more than one user can use the computer at a single time.  \n",
        "\n",
        "Think about ssh-ing into a remote computer.  As you might imagine, different remote users can ssh into the same computer.  And linux might grant different kinds of access to different users depending on this access.  \n",
        "\n",
        "In this lesson, we'll learn how to manage users in the shell."
      ]
    },
    {
      "cell_type": "markdown",
      "metadata": {
        "id": "M8vD6TA5MxSc"
      },
      "source": [
        "### Exploring "
      ]
    },
    {
      "cell_type": "markdown",
      "metadata": {
        "id": "zyCt6UpnMxSd"
      },
      "source": [
        "To begin, everytime we login to the shell, we login as a user.  We can see this user, if we type in `id` in the shell."
      ]
    },
    {
      "cell_type": "code",
      "metadata": {
        "id": "yTE4I_XTMxSd",
        "colab": {
          "base_uri": "https://localhost:8080/"
        },
        "outputId": "e0c6454a-01ed-4b1f-b7ad-5d44f0aa749e"
      },
      "source": [
        "!id\n",
        "\n",
        "# uid=501(jeff) gid=20(staff) groups=20(staff),12(everyone),61(localaccounts),79(_appserverusr)\n",
        "# ,80(admin),81(_appserveradm),98(_lpadmin),701(com.apple.sharepoint.group.1),33(_appstore)\n",
        "# ,100(_lpoperator),204(_developer),250(_analyticsusers),395(com.apple.access_ftp),\n",
        "# 398(com.apple.access_screensharing),399(com.apple.access_ssh),400(com.apple.access_remote_ae)"
      ],
      "execution_count": null,
      "outputs": [
        {
          "output_type": "stream",
          "text": [
            "uid=0(root) gid=0(root) groups=0(root)\n"
          ],
          "name": "stdout"
        }
      ]
    },
    {
      "cell_type": "markdown",
      "metadata": {
        "id": "EEgn5P3iMxSf"
      },
      "source": [
        "As we can see, our logged in user is asssigned a user id (`uid`) followed by the associated name.  And various groups, along with the related group ids.  As this user, and as members of these groups, the user has access to different files."
      ]
    },
    {
      "cell_type": "markdown",
      "metadata": {
        "id": "qhkTmBvYMxSg"
      },
      "source": [
        "### Viewing Permissions"
      ]
    },
    {
      "cell_type": "markdown",
      "metadata": {
        "id": "0VuRjvqzMxSg"
      },
      "source": [
        "We can see these different levels of access or permissions our loggedin user has with respect to a file (or directory of files), by adding the `-l` flag to our `ls` command."
      ]
    },
    {
      "cell_type": "markdown",
      "metadata": {
        "id": "2LXv7dTSMxSg"
      },
      "source": [
        "```bash\n",
        "ls -l index.py\n",
        "# -rw-r--r--  1 jeff  staff  0 Jan  6 18:54 index.py\n",
        "```"
      ]
    },
    {
      "cell_type": "markdown",
      "metadata": {
        "id": "2wlwqljCMxSh"
      },
      "source": [
        "The different letters available are `r` for read, `w` for write, and `x` to allow the execution of a file.  \n",
        "\n",
        "Why so many dashes?  Well the dashes specify the values at the usere, group, and others level (in that order).  So above we can see that the user can read and write but not execute, that the group level and global permissions are both for reading.  \n",
        "\n",
        "> But who is that user, and what is the group?  Well, we can also see that in our output to `ls -l`.  The owner of the file is `jeff` (as that was the user who created it) and the group is `staff`."
      ]
    },
    {
      "cell_type": "markdown",
      "metadata": {
        "id": "p5QGdt4mMxSh"
      },
      "source": [
        "> Also, if we look at the output from `ls -l` above, we can see that there is one dash before our first `r`.  This dash is used to indicate whether the file is a directory.  If it is, we'll see the letter `d`."
      ]
    },
    {
      "cell_type": "markdown",
      "metadata": {
        "id": "E0XvICeIMxSh"
      },
      "source": [
        "Take a look at the output below.  We can see that `.ipynb_checkpoints` and `sample_folder` are directories and preceded with a `d`."
      ]
    },
    {
      "cell_type": "markdown",
      "metadata": {
        "id": "vX-4rMhtMxSi"
      },
      "source": [
        "<img src=\"https://github.com/jigsawlabs-student/permissions-reading/blob/main/ls_l.png?raw=1\" width=\"60%\">"
      ]
    },
    {
      "cell_type": "markdown",
      "metadata": {
        "id": "Ys1EJXfTMxSi"
      },
      "source": [
        "> Also notice above that both the files and folders have different levels of permissions defined."
      ]
    },
    {
      "cell_type": "markdown",
      "metadata": {
        "id": "4Moe9eXLMxSi"
      },
      "source": [
        "### Changing Permissions"
      ]
    },
    {
      "cell_type": "markdown",
      "metadata": {
        "id": "x5iPq_Z0MxSi"
      },
      "source": [
        "Now to change the permissions of a file or directory, we need to use the change mode or `chmod` command.  "
      ]
    },
    {
      "cell_type": "markdown",
      "metadata": {
        "id": "oY3ZlLHDMxSj"
      },
      "source": [
        "`chmod 600 index.py` \n",
        "\n",
        "The different codes each correspond to different permissions.  Here are some of the more popular ones below."
      ]
    },
    {
      "cell_type": "markdown",
      "metadata": {
        "id": "FWQORzdMMxSj"
      },
      "source": [
        "<img src=\"https://github.com/jigsawlabs-student/permissions-reading/blob/main/permissions.png?raw=1\" width=\"80%\">"
      ]
    },
    {
      "cell_type": "markdown",
      "metadata": {
        "id": "-ntKzmj8MxSj"
      },
      "source": [
        "So if we run `chmod 600 index.py` we'll change the permissions to only allow the owner to read and write a file, and prevent read access from anyone else."
      ]
    },
    {
      "cell_type": "code",
      "metadata": {
        "id": "grZMn1n5MxSk"
      },
      "source": [
        "!chmod 600 index.py"
      ],
      "execution_count": null,
      "outputs": []
    },
    {
      "cell_type": "code",
      "metadata": {
        "id": "xFkaeHo6MxSk",
        "outputId": "b52e5d94-09dc-4d1d-97a9-cec19283964c"
      },
      "source": [
        "!ls -l index.py\n",
        "# -rw-------  1 jeff  staff  0 Jan  6 18:54 index.py"
      ],
      "execution_count": null,
      "outputs": [
        {
          "output_type": "stream",
          "text": [
            "-rw-------  1 jeff  staff  0 Jan  6 18:54 index.py\n"
          ],
          "name": "stdout"
        }
      ]
    },
    {
      "cell_type": "markdown",
      "metadata": {
        "id": "0ryCqKPHMxSk"
      },
      "source": [
        "Instead of remembering the different codes, we can also use characters to add or remove the permissions of a file."
      ]
    },
    {
      "cell_type": "markdown",
      "metadata": {
        "id": "hWhg_EfgMxSk"
      },
      "source": [
        "So if we want to remove the write permissison from the user and group, we can do the following:"
      ]
    },
    {
      "cell_type": "code",
      "metadata": {
        "id": "Rq5nVlefMxSk"
      },
      "source": [
        "!chmod ug-w index.py"
      ],
      "execution_count": null,
      "outputs": []
    },
    {
      "cell_type": "code",
      "metadata": {
        "id": "sm0MgBcVMxSl",
        "outputId": "2bda03d7-42e7-42a4-adb9-40b21b7194bf"
      },
      "source": [
        "ls -l index.py"
      ],
      "execution_count": null,
      "outputs": [
        {
          "output_type": "stream",
          "text": [
            "-r-----r--  1 jeff  staff  0 Jan 11 14:00 index.py\n"
          ],
          "name": "stdout"
        }
      ]
    },
    {
      "cell_type": "markdown",
      "metadata": {
        "id": "LhOOb5YuMxSl"
      },
      "source": [
        "And if we want to add the write and execute permissions to the user, group and others, we can do so like so:"
      ]
    },
    {
      "cell_type": "code",
      "metadata": {
        "id": "owRHXL5gMxSl"
      },
      "source": [
        "!chmod ugo+wx index.py"
      ],
      "execution_count": null,
      "outputs": []
    },
    {
      "cell_type": "code",
      "metadata": {
        "id": "BEfA2rOVMxSl",
        "outputId": "347ce7eb-fbae-4efc-c9c8-193fab399ae7"
      },
      "source": [
        "ls -l index.py"
      ],
      "execution_count": null,
      "outputs": [
        {
          "output_type": "stream",
          "text": [
            "-rwx-wxrwx  1 jeff  staff  0 Jan 11 14:00 \u001b[31mindex.py\u001b[m\u001b[m*\n"
          ],
          "name": "stdout"
        }
      ]
    },
    {
      "cell_type": "markdown",
      "metadata": {
        "id": "NdNqkD10MxSm"
      },
      "source": [
        "### When do we need to know this?"
      ]
    },
    {
      "cell_type": "markdown",
      "metadata": {
        "id": "OCU8nJ0jMxSm"
      },
      "source": [
        "With all of these details about permissions, perhaps it's surprising that this doesn't come up more often.  The main reason permissions don't come up too often is that when we login to our computer, we are assigned a user.  \n",
        "\n",
        "And then we create files as that user thus becoming the owner, and given read and write permissions.  \n",
        "\n",
        "There are times that we need to change the permissions, however.  One is when logging into an external machine with `ssh`.  When we do so, we use a .pem file to login, which essentially contains a really long password."
      ]
    },
    {
      "cell_type": "markdown",
      "metadata": {
        "id": "1bmLZFSWMxSn"
      },
      "source": [
        "<img src=\"https://github.com/jigsawlabs-student/permissions-reading/blob/main/pem-file.png?raw=1\" width=\"60%\">"
      ]
    },
    {
      "cell_type": "markdown",
      "metadata": {
        "id": "RJdxLbgbMxSn"
      },
      "source": [
        "Because we don't want any user (including ourselves) the ability to change this file, and we don't want any other user but ourselves seeing this file.  So if we use this pem file, AWS will ask us to make the permissions more restrictive than the default.  "
      ]
    },
    {
      "cell_type": "markdown",
      "metadata": {
        "id": "40_KmeRlMxSo"
      },
      "source": [
        "<img src=\"https://github.com/jigsawlabs-student/permissions-reading/blob/main/permissions_open.png?raw=1\" width=\"60%\">"
      ]
    },
    {
      "cell_type": "markdown",
      "metadata": {
        "id": "jlUBB9xPMxSo"
      },
      "source": [
        "Typical is to use `chmod 400` on the file.  Let's use this on our `index.py` file to see what this does."
      ]
    },
    {
      "cell_type": "code",
      "metadata": {
        "id": "BD4UI3fvMxSo"
      },
      "source": [
        "!chmod 400 index.py"
      ],
      "execution_count": null,
      "outputs": []
    },
    {
      "cell_type": "code",
      "metadata": {
        "id": "SqgzbqVCMxSo",
        "outputId": "52fda9e2-9f4b-49b7-88b9-d449d0e96614"
      },
      "source": [
        "ls -l index.py"
      ],
      "execution_count": null,
      "outputs": [
        {
          "output_type": "stream",
          "text": [
            "-r--------  1 jeff  staff  0 Jan  6 18:54 index.py\n"
          ],
          "name": "stdout"
        }
      ]
    },
    {
      "cell_type": "markdown",
      "metadata": {
        "id": "1oUMNZOWMxSo"
      },
      "source": [
        "We can see that now the owner can only read the file, and no one else even has read access."
      ]
    },
    {
      "cell_type": "markdown",
      "metadata": {
        "id": "5_dU7JqWMxSp"
      },
      "source": [
        "### Summary"
      ]
    },
    {
      "cell_type": "markdown",
      "metadata": {
        "id": "VEpuN41RMxSp"
      },
      "source": [
        "In this lesson, we learned about viewing and changing the permissions for different files in linux.  As we saw, when we accesss the shell, we are logged in as a user."
      ]
    },
    {
      "cell_type": "markdown",
      "metadata": {
        "id": "vbnHOLccMxSp"
      },
      "source": [
        "```bash\n",
        "id\n",
        "\n",
        "# uid=501(jeff) gid=20(staff) groups=20(staff),12(everyone),61(localaccounts),\n",
        "# 79(_appserverusr),80(admin),81(_appserveradm),98(_lpadmin),701(com.apple.sharepoint.group.1),\n",
        "# 33(_appstore),100(_lpoperator),204(_developer),250(_analyticsusers),395(com.apple.access_ftp),\n",
        "# 398(com.apple.access_screensharing),399(com.apple.access_ssh),400(com.apple.access_remote_ae)\n",
        "```"
      ]
    },
    {
      "cell_type": "markdown",
      "metadata": {
        "id": "F8CEmK3TMxSp"
      },
      "source": [
        "And we can view the permissions that we have as that user, for a file or group of files using `ls -l`.\n",
        "\n",
        "```bash\n",
        "!ls -l index.py\n",
        "# -rw-------  1 jeff  staff  0 Jan  6 18:54 index.py\n",
        "```"
      ]
    },
    {
      "cell_type": "markdown",
      "metadata": {
        "id": "cYVLVga9MxSp"
      },
      "source": [
        "The output indicates whether, as the user we have read write or execute level permissions, both at the individual, group, and global level.  And the first dash is to indicate whether or not we are viewing a file or directory.\n",
        "\n",
        "We then saw that we can change the permissions with something like:\n",
        "\n",
        "```bash\n",
        "chmod 400 index.py\n",
        "```\n",
        "\n",
        "Where we use *change mode* to change the permissions on the `index.py` file."
      ]
    },
    {
      "cell_type": "markdown",
      "metadata": {
        "id": "aLFx72JmMxSq"
      },
      "source": [
        "### Resources\n",
        "\n",
        "[Limit use of Root](howtogeek.com/124950/htg-explains-why-you-shouldnt-log-into-your-linux-system-as-root/)\n",
        "\n",
        "[Don't use sudo with pip](https://dev.to/elabftw/stop-using-sudo-pip-install-52mn)"
      ]
    }
  ]
}