{
  "nbformat": 4,
  "nbformat_minor": 0,
  "metadata": {
    "kernelspec": {
      "display_name": "Python 3",
      "language": "python",
      "name": "python3"
    },
    "language_info": {
      "codemirror_mode": {
        "name": "ipython",
        "version": 3
      },
      "file_extension": ".py",
      "mimetype": "text/x-python",
      "name": "python",
      "nbconvert_exporter": "python",
      "pygments_lexer": "ipython3",
      "version": "3.8.3"
    },
    "colab": {
      "name": "Copy of 6-full-dictionaries-with-apis-lab.ipynb",
      "provenance": [],
      "include_colab_link": true
    }
  },
  "cells": [
    {
      "cell_type": "markdown",
      "metadata": {
        "id": "view-in-github",
        "colab_type": "text"
      },
      "source": [
        "<a href=\"https://colab.research.google.com/github/cwaskom/FSND/blob/master/6_full_dictionaries_with_apis_lab%5Bbar%20data%5D.ipynb\" target=\"_parent\"><img src=\"https://colab.research.google.com/assets/colab-badge.svg\" alt=\"Open In Colab\"/></a>"
      ]
    },
    {
      "cell_type": "markdown",
      "metadata": {
        "id": "ZrVnJeRbQtY4"
      },
      "source": [
        "# Dictionaries with APIs"
      ]
    },
    {
      "cell_type": "markdown",
      "metadata": {
        "id": "JtdqlpzTQtZI"
      },
      "source": [
        "### Introduction"
      ]
    },
    {
      "cell_type": "markdown",
      "metadata": {
        "id": "v1CNJousQtZJ"
      },
      "source": [
        "Now that we have better explored lists, strings, and dictionaries, we can explore additional data from Max's Wine Bar.  "
      ]
    },
    {
      "cell_type": "code",
      "metadata": {
        "id": "MxOHwSS8QtZL"
      },
      "source": [
        "import pandas as pd\n",
        "df = pd.read_json('https://raw.githubusercontent.com/jigsawlabs-student/mod-1-fundamentals/master/restaurant_receipts_2020.json')\n",
        "restaurant_receipts = df.to_dict('records')"
      ],
      "execution_count": null,
      "outputs": []
    },
    {
      "cell_type": "code",
      "metadata": {
        "id": "XuOFmmkmQtZf",
        "outputId": "b71367b1-a37b-4eb3-fff7-3bac83622128",
        "colab": {
          "base_uri": "https://localhost:8080/",
          "height": 1000
        }
      },
      "source": [
        "restaurant_receipts[:3]"
      ],
      "execution_count": null,
      "outputs": [
        {
          "output_type": "execute_result",
          "data": {
            "text/plain": [
              "[{'beer_receipts': 0,\n",
              "  'cover_charge_receipts': 0,\n",
              "  'inside_outside_city_limits_code_y_n': 'Y',\n",
              "  'liquor_receipts': 0,\n",
              "  'location_address': '207 SAN JACINTO BLVD STE 200',\n",
              "  'location_city': 'AUSTIN',\n",
              "  'location_county': 227,\n",
              "  'location_name': \"MAX'S WINE DIVE\",\n",
              "  'location_number': 1,\n",
              "  'location_state': 'TX',\n",
              "  'location_zip': 78701,\n",
              "  'obligation_end_date_yyyymmdd': '2020-08-31T00:00:00.000',\n",
              "  'responsibility_begin_date_yyyymmdd': '2016-05-13T00:00:00.000',\n",
              "  'responsibility_end_date_yyyymmdd': None,\n",
              "  'tabc_permit_number': 'MB944126',\n",
              "  'taxpayer_address': '7026 OLD KATY RD STE 255',\n",
              "  'taxpayer_city': 'HOUSTON',\n",
              "  'taxpayer_county': 101,\n",
              "  'taxpayer_name': 'MWD AUSTIN DOWNTOWN, LLC',\n",
              "  'taxpayer_number': 12727298569,\n",
              "  'taxpayer_state': 'TX',\n",
              "  'taxpayer_zip': 77024,\n",
              "  'total_receipts': 0,\n",
              "  'wine_receipts': 0},\n",
              " {'beer_receipts': 476,\n",
              "  'cover_charge_receipts': 0,\n",
              "  'inside_outside_city_limits_code_y_n': 'Y',\n",
              "  'liquor_receipts': 620,\n",
              "  'location_address': '207 SAN JACINTO BLVD STE 200',\n",
              "  'location_city': 'AUSTIN',\n",
              "  'location_county': 227,\n",
              "  'location_name': \"MAX'S WINE DIVE\",\n",
              "  'location_number': 1,\n",
              "  'location_state': 'TX',\n",
              "  'location_zip': 78701,\n",
              "  'obligation_end_date_yyyymmdd': '2020-07-31T00:00:00.000',\n",
              "  'responsibility_begin_date_yyyymmdd': '2016-05-13T00:00:00.000',\n",
              "  'responsibility_end_date_yyyymmdd': None,\n",
              "  'tabc_permit_number': 'MB944126',\n",
              "  'taxpayer_address': '7026 OLD KATY RD STE 255',\n",
              "  'taxpayer_city': 'HOUSTON',\n",
              "  'taxpayer_county': 101,\n",
              "  'taxpayer_name': 'MWD AUSTIN DOWNTOWN, LLC',\n",
              "  'taxpayer_number': 12727298569,\n",
              "  'taxpayer_state': 'TX',\n",
              "  'taxpayer_zip': 77024,\n",
              "  'total_receipts': 2908,\n",
              "  'wine_receipts': 1812},\n",
              " {'beer_receipts': 1046,\n",
              "  'cover_charge_receipts': 0,\n",
              "  'inside_outside_city_limits_code_y_n': 'Y',\n",
              "  'liquor_receipts': 1871,\n",
              "  'location_address': '207 SAN JACINTO BLVD STE 200',\n",
              "  'location_city': 'AUSTIN',\n",
              "  'location_county': 227,\n",
              "  'location_name': \"MAX'S WINE DIVE\",\n",
              "  'location_number': 1,\n",
              "  'location_state': 'TX',\n",
              "  'location_zip': 78701,\n",
              "  'obligation_end_date_yyyymmdd': '2020-06-30T00:00:00.000',\n",
              "  'responsibility_begin_date_yyyymmdd': '2016-05-13T00:00:00.000',\n",
              "  'responsibility_end_date_yyyymmdd': None,\n",
              "  'tabc_permit_number': 'MB944126',\n",
              "  'taxpayer_address': '7026 OLD KATY RD STE 255',\n",
              "  'taxpayer_city': 'HOUSTON',\n",
              "  'taxpayer_county': 101,\n",
              "  'taxpayer_name': 'MWD AUSTIN DOWNTOWN, LLC',\n",
              "  'taxpayer_number': 12727298569,\n",
              "  'taxpayer_state': 'TX',\n",
              "  'taxpayer_zip': 77024,\n",
              "  'total_receipts': 9322,\n",
              "  'wine_receipts': 6405}]"
            ]
          },
          "metadata": {
            "tags": []
          },
          "execution_count": 2
        }
      ]
    },
    {
      "cell_type": "markdown",
      "metadata": {
        "id": "P3axJeFqQtZu"
      },
      "source": [
        "We now have returned a list of dictionaries, where each dictionary contains information about a separate month's drink revenue."
      ]
    },
    {
      "cell_type": "code",
      "metadata": {
        "id": "jPs3-hjgQtZv",
        "outputId": "e534fce6-a6d6-4304-80b6-86e37d777758"
      },
      "source": [
        "restaurant_receipts[:2]"
      ],
      "execution_count": null,
      "outputs": [
        {
          "output_type": "execute_result",
          "data": {
            "text/plain": [
              "[{'taxpayer_number': 12727298569,\n",
              "  'taxpayer_name': 'MWD AUSTIN DOWNTOWN, LLC',\n",
              "  'taxpayer_address': '7026 OLD KATY RD STE 255',\n",
              "  'taxpayer_city': 'HOUSTON',\n",
              "  'taxpayer_state': 'TX',\n",
              "  'taxpayer_zip': 77024,\n",
              "  'taxpayer_county': 101,\n",
              "  'location_number': 1,\n",
              "  'location_name': \"MAX'S WINE DIVE\",\n",
              "  'location_address': '207 SAN JACINTO BLVD STE 200',\n",
              "  'location_city': 'AUSTIN',\n",
              "  'location_state': 'TX',\n",
              "  'location_zip': 78701,\n",
              "  'location_county': 227,\n",
              "  'inside_outside_city_limits_code_y_n': 'Y',\n",
              "  'tabc_permit_number': 'MB944126',\n",
              "  'responsibility_begin_date_yyyymmdd': '2016-05-13T00:00:00.000',\n",
              "  'obligation_end_date_yyyymmdd': '2020-08-31T00:00:00.000',\n",
              "  'liquor_receipts': 0,\n",
              "  'wine_receipts': 0,\n",
              "  'beer_receipts': 0,\n",
              "  'cover_charge_receipts': 0,\n",
              "  'total_receipts': 0,\n",
              "  'responsibility_end_date_yyyymmdd': None},\n",
              " {'taxpayer_number': 12727298569,\n",
              "  'taxpayer_name': 'MWD AUSTIN DOWNTOWN, LLC',\n",
              "  'taxpayer_address': '7026 OLD KATY RD STE 255',\n",
              "  'taxpayer_city': 'HOUSTON',\n",
              "  'taxpayer_state': 'TX',\n",
              "  'taxpayer_zip': 77024,\n",
              "  'taxpayer_county': 101,\n",
              "  'location_number': 1,\n",
              "  'location_name': \"MAX'S WINE DIVE\",\n",
              "  'location_address': '207 SAN JACINTO BLVD STE 200',\n",
              "  'location_city': 'AUSTIN',\n",
              "  'location_state': 'TX',\n",
              "  'location_zip': 78701,\n",
              "  'location_county': 227,\n",
              "  'inside_outside_city_limits_code_y_n': 'Y',\n",
              "  'tabc_permit_number': 'MB944126',\n",
              "  'responsibility_begin_date_yyyymmdd': '2016-05-13T00:00:00.000',\n",
              "  'obligation_end_date_yyyymmdd': '2020-07-31T00:00:00.000',\n",
              "  'liquor_receipts': 620,\n",
              "  'wine_receipts': 1812,\n",
              "  'beer_receipts': 476,\n",
              "  'cover_charge_receipts': 0,\n",
              "  'total_receipts': 2908,\n",
              "  'responsibility_end_date_yyyymmdd': None}]"
            ]
          },
          "metadata": {
            "tags": []
          },
          "execution_count": 69
        }
      ]
    },
    {
      "cell_type": "markdown",
      "metadata": {
        "id": "J6UWiC5pQtaG"
      },
      "source": [
        "So while each dictionary is fairly large, in the end it is just a list of dictionaries which we have seen before."
      ]
    },
    {
      "cell_type": "markdown",
      "metadata": {
        "id": "-2ljivZsQtaH"
      },
      "source": [
        "```python\n",
        "restaurant_receipts\n",
        "# [{receipt1}, {receipt2}]\n",
        "```"
      ]
    },
    {
      "cell_type": "markdown",
      "metadata": {
        "id": "ulUbl9-JQtaJ"
      },
      "source": [
        "Ok, let's use our knowledge of datatypes to explore and organize this data."
      ]
    },
    {
      "cell_type": "markdown",
      "metadata": {
        "id": "idomY6yIQtaK"
      },
      "source": [
        "### Starting Broad"
      ]
    },
    {
      "cell_type": "markdown",
      "metadata": {
        "id": "zAyGzmhLQtaK"
      },
      "source": [
        "Begin by calculating the number of elements in our list of receipts."
      ]
    },
    {
      "cell_type": "code",
      "metadata": {
        "id": "ypVsKkPNQtaL",
        "outputId": "32852d90-19a4-4b3d-971b-db9963c55a60",
        "colab": {
          "base_uri": "https://localhost:8080/",
          "height": 34
        }
      },
      "source": [
        "len(restaurant_receipts)\n",
        "# 77"
      ],
      "execution_count": null,
      "outputs": [
        {
          "output_type": "execute_result",
          "data": {
            "text/plain": [
              "77"
            ]
          },
          "metadata": {
            "tags": []
          },
          "execution_count": 4
        }
      ]
    },
    {
      "cell_type": "markdown",
      "metadata": {
        "id": "bBZV772MQtaa"
      },
      "source": [
        "So it looks like there are 77 restaurant receipts that are returned.  Now let's select the first receipt and take a look at it."
      ]
    },
    {
      "cell_type": "markdown",
      "metadata": {
        "id": "_K9X4khPQtab"
      },
      "source": [
        "> Select the first receipt below and assign it to the variable receipt."
      ]
    },
    {
      "cell_type": "code",
      "metadata": {
        "id": "00qGP4RaQtac",
        "outputId": "c3c47629-545a-4eee-b250-e8264a8f01ae",
        "colab": {
          "base_uri": "https://localhost:8080/",
          "height": 425
        }
      },
      "source": [
        "receipt = restaurant_receipts[0]\n",
        "receipt\n",
        "\n",
        "# {'taxpayer_number': 12727298569,\n",
        "#  'taxpayer_name': 'MWD AUSTIN DOWNTOWN, LLC',\n",
        "#  'taxpayer_address': '7026 OLD KATY RD STE 255',\n",
        "#  'taxpayer_city': 'HOUSTON',\n",
        "#  'taxpayer_state': 'TX',\n",
        "#  'taxpayer_zip': 77024,\n",
        "#  'taxpayer_county': 101,\n",
        "# ...\n",
        "# 'cover_charge_receipts': 0,\n",
        "#  'total_receipts': 0,\n",
        "#  'responsibility_end_date_yyyymmdd': None}"
      ],
      "execution_count": null,
      "outputs": [
        {
          "output_type": "execute_result",
          "data": {
            "text/plain": [
              "{'beer_receipts': 0,\n",
              " 'cover_charge_receipts': 0,\n",
              " 'inside_outside_city_limits_code_y_n': 'Y',\n",
              " 'liquor_receipts': 0,\n",
              " 'location_address': '207 SAN JACINTO BLVD STE 200',\n",
              " 'location_city': 'AUSTIN',\n",
              " 'location_county': 227,\n",
              " 'location_name': \"MAX'S WINE DIVE\",\n",
              " 'location_number': 1,\n",
              " 'location_state': 'TX',\n",
              " 'location_zip': 78701,\n",
              " 'obligation_end_date_yyyymmdd': '2020-08-31T00:00:00.000',\n",
              " 'responsibility_begin_date_yyyymmdd': '2016-05-13T00:00:00.000',\n",
              " 'responsibility_end_date_yyyymmdd': None,\n",
              " 'tabc_permit_number': 'MB944126',\n",
              " 'taxpayer_address': '7026 OLD KATY RD STE 255',\n",
              " 'taxpayer_city': 'HOUSTON',\n",
              " 'taxpayer_county': 101,\n",
              " 'taxpayer_name': 'MWD AUSTIN DOWNTOWN, LLC',\n",
              " 'taxpayer_number': 12727298569,\n",
              " 'taxpayer_state': 'TX',\n",
              " 'taxpayer_zip': 77024,\n",
              " 'total_receipts': 0,\n",
              " 'wine_receipts': 0}"
            ]
          },
          "metadata": {
            "tags": []
          },
          "execution_count": 5
        }
      ]
    },
    {
      "cell_type": "markdown",
      "metadata": {
        "id": "dWuP19VEQtbF"
      },
      "source": [
        "Ok, so there's our dictionary."
      ]
    },
    {
      "cell_type": "markdown",
      "metadata": {
        "id": "W6cwsWraQtbV"
      },
      "source": [
        "Now let's see what information is available in our dictionary.  Return all of the keys available, and assign them to the variable `receipt_attributes`."
      ]
    },
    {
      "cell_type": "code",
      "metadata": {
        "id": "89EGPYJqQtbX",
        "outputId": "6b3ad318-a18d-4a74-a086-3e57359002d9",
        "colab": {
          "base_uri": "https://localhost:8080/",
          "height": 54
        }
      },
      "source": [
        "receipt_attributes = receipt.keys()\n",
        "receipt_attributes\n",
        "\n",
        "# dict_keys(['taxpayer_number', 'taxpayer_name', 'taxpayer_address', 'taxpayer_city', 'taxpayer_state', 'taxpayer_zip', 'taxpayer_county', 'location_number', 'location_name', 'location_address', 'location_city', 'location_state', 'location_zip', 'location_county', 'inside_outside_city_limits_code_y_n', 'tabc_permit_number', 'responsibility_begin_date_yyyymmdd', 'obligation_end_date_yyyymmdd', 'liquor_receipts', \n",
        "#            'wine_receipts', 'beer_receipts', 'cover_charge_receipts', 'total_receipts'])"
      ],
      "execution_count": null,
      "outputs": [
        {
          "output_type": "execute_result",
          "data": {
            "text/plain": [
              "dict_keys(['taxpayer_number', 'taxpayer_name', 'taxpayer_address', 'taxpayer_city', 'taxpayer_state', 'taxpayer_zip', 'taxpayer_county', 'location_number', 'location_name', 'location_address', 'location_city', 'location_state', 'location_zip', 'location_county', 'inside_outside_city_limits_code_y_n', 'tabc_permit_number', 'responsibility_begin_date_yyyymmdd', 'obligation_end_date_yyyymmdd', 'liquor_receipts', 'wine_receipts', 'beer_receipts', 'cover_charge_receipts', 'total_receipts', 'responsibility_end_date_yyyymmdd'])"
            ]
          },
          "metadata": {
            "tags": []
          },
          "execution_count": 6
        }
      ]
    },
    {
      "cell_type": "markdown",
      "metadata": {
        "id": "f__fyueXQtbd"
      },
      "source": [
        "Now, that's a lot of attributes.  Let's see how many."
      ]
    },
    {
      "cell_type": "code",
      "metadata": {
        "id": "GQq7pjkVQtbe",
        "outputId": "102c46e7-9ea3-4379-a89a-857148fbfdaf",
        "colab": {
          "base_uri": "https://localhost:8080/",
          "height": 34
        }
      },
      "source": [
        "num_attributes = len(receipt_attributes)\n",
        "\n",
        "num_attributes\n",
        "# 23"
      ],
      "execution_count": null,
      "outputs": [
        {
          "output_type": "execute_result",
          "data": {
            "text/plain": [
              "24"
            ]
          },
          "metadata": {
            "tags": []
          },
          "execution_count": 9
        }
      ]
    },
    {
      "cell_type": "markdown",
      "metadata": {
        "id": "2eOagRbfQtcJ"
      },
      "source": [
        "And to better organize the data we have, let's sort those attribute alphabetically."
      ]
    },
    {
      "cell_type": "code",
      "metadata": {
        "id": "Nh9x7xhHQtcK",
        "outputId": "ecfd6feb-0451-44bb-ccde-9dcfa2ede20b",
        "colab": {
          "base_uri": "https://localhost:8080/",
          "height": 187
        }
      },
      "source": [
        "sorted_attrs = sorted(receipt_attributes)\n",
        "\n",
        "sorted_attrs[:10]\n",
        "\n",
        "# ['beer_receipts', 'cover_charge_receipts', 'inside_outside_city_limits_code_y_n',\n",
        "#  'liquor_receipts', 'location_address', 'location_city', 'location_county',\n",
        "#  'location_name', 'location_number', 'location_state']"
      ],
      "execution_count": null,
      "outputs": [
        {
          "output_type": "execute_result",
          "data": {
            "text/plain": [
              "['beer_receipts',\n",
              " 'cover_charge_receipts',\n",
              " 'inside_outside_city_limits_code_y_n',\n",
              " 'liquor_receipts',\n",
              " 'location_address',\n",
              " 'location_city',\n",
              " 'location_county',\n",
              " 'location_name',\n",
              " 'location_number',\n",
              " 'location_state']"
            ]
          },
          "metadata": {
            "tags": []
          },
          "execution_count": 10
        }
      ]
    },
    {
      "cell_type": "markdown",
      "metadata": {
        "id": "qHzThgr0QtcQ"
      },
      "source": [
        "Ok, now we can focus in on a few of our attributes.  We can perhaps reduce down the number of attributes by selecting just the values that change over time.  For example, are there multiple locations of Max's wine bar?  \n",
        "\n",
        "First create a list that has the `location_address` in each dictionary."
      ]
    },
    {
      "cell_type": "markdown",
      "metadata": {
        "id": "RS989mMDQtcR"
      },
      "source": [
        "> Assign the result to the variable `location_addresses`."
      ]
    },
    {
      "cell_type": "code",
      "metadata": {
        "id": "Sp-eGi1kQtcS"
      },
      "source": [
        "location_addresses = []\n",
        "for restaurant in restaurant_receipts:\n",
        "  location = restaurant['location_address']\n",
        "  location_addresses.append(location)\n"
      ],
      "execution_count": null,
      "outputs": []
    },
    {
      "cell_type": "code",
      "metadata": {
        "id": "5LxNwq5_Qtch",
        "outputId": "cb24a74e-c823-45fe-9c8e-48accdbdd301",
        "colab": {
          "base_uri": "https://localhost:8080/",
          "height": 68
        }
      },
      "source": [
        "location_addresses[:3]\n",
        "\n",
        "# ['207 SAN JACINTO BLVD STE 200',\n",
        "#  '207 SAN JACINTO BLVD STE 200',\n",
        "#  '207 SAN JACINTO BLVD STE 200']"
      ],
      "execution_count": null,
      "outputs": [
        {
          "output_type": "execute_result",
          "data": {
            "text/plain": [
              "['207 SAN JACINTO BLVD STE 200',\n",
              " '207 SAN JACINTO BLVD STE 200',\n",
              " '207 SAN JACINTO BLVD STE 200']"
            ]
          },
          "metadata": {
            "tags": []
          },
          "execution_count": 12
        }
      ]
    },
    {
      "cell_type": "markdown",
      "metadata": {
        "id": "CQ1CX3e1Qtcq"
      },
      "source": [
        "Then turn this into a unique list of locations."
      ]
    },
    {
      "cell_type": "code",
      "metadata": {
        "id": "p2ZjxuLDQtdN",
        "outputId": "09a81324-7123-4568-99b8-491dc014c27f",
        "colab": {
          "base_uri": "https://localhost:8080/",
          "height": 34
        }
      },
      "source": [
        "unique_locations = list(set(location_addresses))\n",
        "\n",
        "unique_locations\n",
        "\n",
        "# ['3600 MCKINNEY AVE STE 100', '207 SAN JACINTO BLVD STE 200']"
      ],
      "execution_count": null,
      "outputs": [
        {
          "output_type": "execute_result",
          "data": {
            "text/plain": [
              "['3600 MCKINNEY AVE STE 100', '207 SAN JACINTO BLVD STE 200']"
            ]
          },
          "metadata": {
            "tags": []
          },
          "execution_count": 14
        }
      ]
    },
    {
      "cell_type": "markdown",
      "metadata": {
        "id": "b6YgTwkQQtda"
      },
      "source": [
        "Ok, so it looks like we have two different locations of Max's Wine Bar.  \n",
        "\n",
        "Now let's begin to reduce the amount information in our dictionary.  Let's select just the key value pairs of `total_receipts`, `obligation_end_date_yyyymmdd`, and `location_address`.\n",
        "\n",
        "Assign the result to the variable `abridged_receipts`."
      ]
    },
    {
      "cell_type": "code",
      "metadata": {
        "id": "oGpaTdBqQtde"
      },
      "source": [
        "abridged_receipts = []\n",
        "\n",
        "for restaurant_receipt in restaurant_receipts:\n",
        "  receipt_info = {'total_receipts': restaurant_receipt['total_receipts'],\n",
        "                  'obligation_end_date_yyyymmdd': restaurant_receipt['obligation_end_date_yyyymmdd'], \n",
        "                  'location_address': restaurant_receipt['location_address']}\n",
        "  abridged_receipts.append(receipt_info)\n"
      ],
      "execution_count": null,
      "outputs": []
    },
    {
      "cell_type": "code",
      "metadata": {
        "id": "9Axq03TcQtd5",
        "outputId": "dc59dea3-8dd0-41c7-ebf5-5b78fcf6f730",
        "colab": {
          "base_uri": "https://localhost:8080/",
          "height": 170
        }
      },
      "source": [
        "abridged_receipts[:3]\n",
        "\n",
        "# [{'total_receipts': '0',\n",
        "#   'obligation_end_date_yyyymmdd': '2020-08-31T00:00:00.000',\n",
        "#   'location_address': '207 SAN JACINTO BLVD STE 200'},\n",
        "#  {'total_receipts': '2908',\n",
        "#   'obligation_end_date_yyyymmdd': '2020-07-31T00:00:00.000',\n",
        "#   'location_address': '207 SAN JACINTO BLVD STE 200'},\n",
        "#  {'total_receipts': '9322',\n",
        "#   'obligation_end_date_yyyymmdd': '2020-06-30T00:00:00.000',\n",
        "#   'location_address': '207 SAN JACINTO BLVD STE 200'}]\n"
      ],
      "execution_count": null,
      "outputs": [
        {
          "output_type": "execute_result",
          "data": {
            "text/plain": [
              "[{'location_address': '207 SAN JACINTO BLVD STE 200',\n",
              "  'obligation_end_date_yyyymmdd': '2020-08-31T00:00:00.000',\n",
              "  'total_receipts': 0},\n",
              " {'location_address': '207 SAN JACINTO BLVD STE 200',\n",
              "  'obligation_end_date_yyyymmdd': '2020-07-31T00:00:00.000',\n",
              "  'total_receipts': 2908},\n",
              " {'location_address': '207 SAN JACINTO BLVD STE 200',\n",
              "  'obligation_end_date_yyyymmdd': '2020-06-30T00:00:00.000',\n",
              "  'total_receipts': 9322}]"
            ]
          },
          "metadata": {
            "tags": []
          },
          "execution_count": 33
        }
      ]
    },
    {
      "cell_type": "markdown",
      "metadata": {
        "id": "b0OJ8JA_Qtd-"
      },
      "source": [
        "Ok, now let's clean up some of our resulting data.  To begin with, instead of `obligation-end_date_yyyymmdd`, let's create separate keys of year and month, and store the respective values.  In addition let's coerce each `total_receipts`, `year` and `month` value to an integer.  Finally, let's only store the first fifteen characters of the location address.\n",
        "\n",
        "Store the new result in the variable `clean_receipts`."
      ]
    },
    {
      "cell_type": "markdown",
      "metadata": {
        "id": "uSKsAZ-AQteh"
      },
      "source": [
        "> We can start from our existing `abridged_receipts` data and keep going from there. "
      ]
    },
    {
      "cell_type": "code",
      "metadata": {
        "id": "NA3nYo1pQtej"
      },
      "source": [
        "clean_receipts = []\n",
        "\n",
        "for restaurant_receipt in restaurant_receipts:\n",
        "  # separate key for year and month\n",
        "  # total_receipts to into\n",
        "\n",
        "  year = int(restaurant_receipt['obligation_end_date_yyyymmdd'].split('-')[0])\n",
        "  month = int(restaurant_receipt['obligation_end_date_yyyymmdd'].split('-')[1])\n",
        "  int_total_receipts = int(restaurant_receipt['total_receipts'])\n",
        "  short_address = restaurant_receipt['location_address'][:15]\n",
        "  \n",
        "  receipt_info = {'total_receipts': int_total_receipts,\n",
        "                  'year': year,\n",
        "                  'month': month, \n",
        "                  'location_address': short_address}\n",
        "  clean_receipts.append(receipt_info)\n"
      ],
      "execution_count": null,
      "outputs": []
    },
    {
      "cell_type": "markdown",
      "metadata": {
        "id": "qHjTBaNYYU1y"
      },
      "source": [
        ""
      ]
    },
    {
      "cell_type": "code",
      "metadata": {
        "id": "mZBF-I_hYBQS",
        "outputId": "d4e56e00-84eb-4877-e185-a064f7542b53",
        "colab": {
          "base_uri": "https://localhost:8080/",
          "height": 34
        }
      },
      "source": [
        "short_address = restaurant_receipt['location_address'][:15]\n",
        "len(short_address)"
      ],
      "execution_count": null,
      "outputs": [
        {
          "output_type": "execute_result",
          "data": {
            "text/plain": [
              "15"
            ]
          },
          "metadata": {
            "tags": []
          },
          "execution_count": 48
        }
      ]
    },
    {
      "cell_type": "code",
      "metadata": {
        "id": "ZH30KvpCQtex",
        "outputId": "27a8dc55-5199-4c3c-d72f-de6f4e8ac83a",
        "colab": {
          "base_uri": "https://localhost:8080/",
          "height": 357
        }
      },
      "source": [
        "\n",
        "clean_receipts[:5]\n",
        "\n",
        "# [{'year': 2020, 'month': 8, 'total': 0, 'location_address': '207 SAN JACINTO'},\n",
        "#  {'year': 2020,\n",
        "#   'month': 7,\n",
        "#   'total': 2908,\n",
        "#   'location_address': '207 SAN JACINTO'},\n",
        "#  {'year': 2020,\n",
        "#   'month': 6,\n",
        "#   'total': 9322,\n",
        "#   'location_address': '207 SAN JACINTO'},\n",
        "#  {'year': 2020,\n",
        "#   'month': 5,\n",
        "#   'total': 3421,\n",
        "#   'location_address': '207 SAN JACINTO'},\n",
        "#  {'year': 2020,\n",
        "#   'month': 4,\n",
        "#   'total': 90,\n",
        "#   'location_address': '207 SAN JACINTO'}]"
      ],
      "execution_count": null,
      "outputs": [
        {
          "output_type": "execute_result",
          "data": {
            "text/plain": [
              "[{'location_address': '207 SAN JACINTO',\n",
              "  'month': 8,\n",
              "  'total_receipts': 0,\n",
              "  'year': 2020},\n",
              " {'location_address': '207 SAN JACINTO',\n",
              "  'month': 7,\n",
              "  'total_receipts': 2908,\n",
              "  'year': 2020},\n",
              " {'location_address': '207 SAN JACINTO',\n",
              "  'month': 6,\n",
              "  'total_receipts': 9322,\n",
              "  'year': 2020},\n",
              " {'location_address': '207 SAN JACINTO',\n",
              "  'month': 5,\n",
              "  'total_receipts': 3421,\n",
              "  'year': 2020},\n",
              " {'location_address': '207 SAN JACINTO',\n",
              "  'month': 4,\n",
              "  'total_receipts': 90,\n",
              "  'year': 2020}]"
            ]
          },
          "metadata": {
            "tags": []
          },
          "execution_count": 50
        }
      ]
    },
    {
      "cell_type": "markdown",
      "metadata": {
        "id": "BZQh7YPPQte1"
      },
      "source": [
        "### Bonus"
      ]
    },
    {
      "cell_type": "markdown",
      "metadata": {
        "id": "o2JAbpUYQte2"
      },
      "source": [
        "Notice that we can use the `sorted` method to sort our data by a specific attribute.  See if you can figure out how this works."
      ]
    },
    {
      "cell_type": "code",
      "metadata": {
        "id": "__H0fuqMQte2",
        "outputId": "a2f20486-db4f-4fab-95d4-fbf7c424b727"
      },
      "source": [
        "sorted(clean_receipts, key=lambda receipt: receipt['total'])[:5]"
      ],
      "execution_count": null,
      "outputs": [
        {
          "output_type": "execute_result",
          "data": {
            "text/plain": [
              "[{'year': 2020, 'month': 8, 'total': 0, 'location_address': '207 SAN JACINTO'},\n",
              " {'year': 2015, 'month': 8, 'total': 0, 'location_address': '3600 MCKINNEY A'},\n",
              " {'year': 2020,\n",
              "  'month': 4,\n",
              "  'total': 90,\n",
              "  'location_address': '207 SAN JACINTO'},\n",
              " {'year': 2020,\n",
              "  'month': 7,\n",
              "  'total': 2908,\n",
              "  'location_address': '207 SAN JACINTO'},\n",
              " {'year': 2020,\n",
              "  'month': 5,\n",
              "  'total': 3421,\n",
              "  'location_address': '207 SAN JACINTO'}]"
            ]
          },
          "metadata": {
            "tags": []
          },
          "execution_count": 62
        }
      ]
    },
    {
      "cell_type": "markdown",
      "metadata": {
        "id": "QIAFzZgCQte9"
      },
      "source": [
        "> See if you can sort the data by year."
      ]
    },
    {
      "cell_type": "code",
      "metadata": {
        "id": "pHWlSVOfQte_"
      },
      "source": [
        "receipts_sorted_year = None\n",
        "\n",
        "receipts_sorted_year[:5]\n",
        "\n",
        "# [{'year': 2015,\n",
        "#   'month': 9,\n",
        "#   'total': 66609,\n",
        "#   'location_address': '3600 MCKINNEY A'},\n",
        "#  {'year': 2015, 'month': 8, 'total': 0, 'location_address': '3600 MCKINNEY A'},\n",
        "#  {'year': 2015,\n",
        "#   'month': 11,\n",
        "#   'total': 69664,\n",
        "#   'location_address': '3600 MCKINNEY A'},\n",
        "#  {'year': 2015,\n",
        "#   'month': 12,\n",
        "#   'total': 72238,\n",
        "#   'location_address': '3600 MCKINNEY A'},\n",
        "#  {'year': 2015,\n",
        "#   'month': 10,\n",
        "#   'total': 67048,\n",
        "#   'location_address': '3600 MCKINNEY A'}]"
      ],
      "execution_count": null,
      "outputs": []
    },
    {
      "cell_type": "markdown",
      "metadata": {
        "id": "2avfj-DrQtfF"
      },
      "source": [
        "### Summary"
      ]
    },
    {
      "cell_type": "markdown",
      "metadata": {
        "id": "G-QEzrcZQtfF"
      },
      "source": [
        "In this lesson we started with a messy dataset and made our data more managable by:\n",
        "\n",
        "1. Limiting the number of attributes in each dictionary\n",
        "2. Coercing our data to more appropriate datatype (integers for dates and revenue, shorter strings).\n",
        "\n",
        "Once we did so, sorting and exploring our data became easier.\n",
        "\n",
        "We also used our knowledge of datatypes explore our data by finding the number of locations we would be handling receipts of."
      ]
    },
    {
      "cell_type": "markdown",
      "metadata": {
        "id": "IbrcGvo2QtfG"
      },
      "source": [
        "### Resources"
      ]
    },
    {
      "cell_type": "markdown",
      "metadata": {
        "id": "GFnkd85RQtfG"
      },
      "source": [
        "[Mixed Beverage API](https://data.texas.gov/Government-and-Taxes/Mixed-Beverage-Gross-Receipts/naix-2893)"
      ]
    }
  ]
}